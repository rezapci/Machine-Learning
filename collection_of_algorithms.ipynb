{
  "nbformat": 4,
  "nbformat_minor": 0,
  "metadata": {
    "colab": {
      "name": "collection_of_algorithms.ipynb",
      "version": "0.3.2",
      "provenance": [],
      "collapsed_sections": [],
      "include_colab_link": true
    },
    "kernelspec": {
      "name": "python3",
      "display_name": "Python 3"
    }
  },
  "cells": [
    {
      "cell_type": "markdown",
      "metadata": {
        "id": "view-in-github",
        "colab_type": "text"
      },
      "source": [
        "<a href=\"https://colab.research.google.com/github/rezapci/Machine-Learning/blob/master/collection_of_algorithms.ipynb\" target=\"_parent\"><img src=\"https://colab.research.google.com/assets/colab-badge.svg\" alt=\"Open In Colab\"/></a>"
      ]
    },
    {
      "cell_type": "markdown",
      "metadata": {
        "id": "se-w-0TQrr-J",
        "colab_type": "text"
      },
      "source": [
        "| Name | Description | Date\n",
        "| :- |-------------: | :-:\n",
        "|<font color=red>__Reza Hashemi__</font>| __Collection of Algorithms__.  | __On 8th of August 2019__"
      ]
    },
    {
      "cell_type": "markdown",
      "metadata": {
        "id": "yTlCONSOrleS",
        "colab_type": "text"
      },
      "source": [
        "<a id=\"ref1\"></a>\n",
        "# Acquiring the Data"
      ]
    },
    {
      "cell_type": "markdown",
      "metadata": {
        "id": "rACzMvefroUU",
        "colab_type": "text"
      },
      "source": [
        "To acquire and extract the data, simply run the following Bash scripts:  \n",
        "Dataset acquired from [GroupLens](http://grouplens.org/datasets/movielens/). Lets download the dataset. To download the data, we will use **`!wget`** to download it from IBM Object Storage.  \n",
        "__Did you know?__ When it comes to Machine Learning, you will likely be working with large datasets. As a business, where can you host your data? IBM is offering a unique opportunity for businesses, with 10 Tb of IBM Cloud Object Storage: [Sign up now for free](http://cocl.us/ML0101EN-IBM-Offer-CC)"
      ]
    },
    {
      "cell_type": "code",
      "metadata": {
        "id": "h9mE5BeUrepW",
        "colab_type": "code",
        "outputId": "212d5a4b-c949-4933-9912-0b61f714e8ce",
        "colab": {
          "base_uri": "https://localhost:8080/",
          "height": 323
        }
      },
      "source": [
        "#!wget -O moviedataset.zip https://s3-api.us-geo.objectstorage.softlayer.net/cf-courses-data/CognitiveClass/ML0101ENv3/labs/moviedataset.zip\n",
        "print('unziping ...')\n",
        "!unzip -o -j moviedataset.zip "
      ],
      "execution_count": 0,
      "outputs": [
        {
          "output_type": "stream",
          "text": [
            "--2019-08-08 10:03:28--  https://s3-api.us-geo.objectstorage.softlayer.net/cf-courses-data/CognitiveClass/ML0101ENv3/labs/moviedataset.zip\n",
            "Resolving s3-api.us-geo.objectstorage.softlayer.net (s3-api.us-geo.objectstorage.softlayer.net)... 67.228.254.193\n",
            "Connecting to s3-api.us-geo.objectstorage.softlayer.net (s3-api.us-geo.objectstorage.softlayer.net)|67.228.254.193|:443... connected.\n",
            "HTTP request sent, awaiting response... 200 OK\n",
            "Length: 160301210 (153M) [application/zip]\n",
            "Saving to: ‘moviedataset.zip’\n",
            "\n",
            "moviedataset.zip    100%[===================>] 152.88M  27.4MB/s    in 5.5s    \n",
            "\n",
            "2019-08-08 10:03:34 (27.5 MB/s) - ‘moviedataset.zip’ saved [160301210/160301210]\n",
            "\n",
            "unziping ...\n",
            "Archive:  moviedataset.zip\n",
            "  inflating: links.csv               \n",
            "  inflating: movies.csv              \n",
            "  inflating: ratings.csv             \n",
            "  inflating: README.txt              \n",
            "  inflating: tags.csv                \n"
          ],
          "name": "stdout"
        }
      ]
    },
    {
      "cell_type": "markdown",
      "metadata": {
        "id": "TqNixtubrzRC",
        "colab_type": "text"
      },
      "source": [
        "<hr>\n",
        "\n",
        "<a id=\"ref2\"></a>\n",
        "# Preprocessing"
      ]
    },
    {
      "cell_type": "markdown",
      "metadata": {
        "id": "wxiL2Q7zr2tU",
        "colab_type": "text"
      },
      "source": [
        "First, let's get all of the imports out of the way:"
      ]
    },
    {
      "cell_type": "code",
      "metadata": {
        "id": "2AGzigiBruNw",
        "colab_type": "code",
        "colab": {}
      },
      "source": [
        "#Dataframe manipulation library\n",
        "import pandas as pd\n",
        "#Math functions, we'll only need the sqrt function so let's import only that\n",
        "from math import sqrt\n",
        "import numpy as np\n",
        "import matplotlib.pyplot as plt\n",
        "%matplotlib inline"
      ],
      "execution_count": 0,
      "outputs": []
    },
    {
      "cell_type": "markdown",
      "metadata": {
        "id": "Ez440k5yuc7N",
        "colab_type": "text"
      },
      "source": [
        "Now let's read each file into their Dataframes:"
      ]
    },
    {
      "cell_type": "code",
      "metadata": {
        "id": "hgfT34Vlr8wI",
        "colab_type": "code",
        "outputId": "2a1d5deb-1045-4423-d06d-ad6847e2ac60",
        "colab": {
          "base_uri": "https://localhost:8080/",
          "height": 204
        }
      },
      "source": [
        "#Storing the movie information into a pandas dataframe\n",
        "movies_df = pd.read_csv('movies.csv')\n",
        "#Storing the user information into a pandas dataframe\n",
        "ratings_df = pd.read_csv('ratings.csv')\n",
        "#Head is a function that gets the first N rows of a dataframe. N's default is 5.\n",
        "movies_df.head()"
      ],
      "execution_count": 0,
      "outputs": [
        {
          "output_type": "execute_result",
          "data": {
            "text/html": [
              "<div>\n",
              "<style scoped>\n",
              "    .dataframe tbody tr th:only-of-type {\n",
              "        vertical-align: middle;\n",
              "    }\n",
              "\n",
              "    .dataframe tbody tr th {\n",
              "        vertical-align: top;\n",
              "    }\n",
              "\n",
              "    .dataframe thead th {\n",
              "        text-align: right;\n",
              "    }\n",
              "</style>\n",
              "<table border=\"1\" class=\"dataframe\">\n",
              "  <thead>\n",
              "    <tr style=\"text-align: right;\">\n",
              "      <th></th>\n",
              "      <th>movieId</th>\n",
              "      <th>title</th>\n",
              "      <th>genres</th>\n",
              "    </tr>\n",
              "  </thead>\n",
              "  <tbody>\n",
              "    <tr>\n",
              "      <th>0</th>\n",
              "      <td>1</td>\n",
              "      <td>Toy Story (1995)</td>\n",
              "      <td>Adventure|Animation|Children|Comedy|Fantasy</td>\n",
              "    </tr>\n",
              "    <tr>\n",
              "      <th>1</th>\n",
              "      <td>2</td>\n",
              "      <td>Jumanji (1995)</td>\n",
              "      <td>Adventure|Children|Fantasy</td>\n",
              "    </tr>\n",
              "    <tr>\n",
              "      <th>2</th>\n",
              "      <td>3</td>\n",
              "      <td>Grumpier Old Men (1995)</td>\n",
              "      <td>Comedy|Romance</td>\n",
              "    </tr>\n",
              "    <tr>\n",
              "      <th>3</th>\n",
              "      <td>4</td>\n",
              "      <td>Waiting to Exhale (1995)</td>\n",
              "      <td>Comedy|Drama|Romance</td>\n",
              "    </tr>\n",
              "    <tr>\n",
              "      <th>4</th>\n",
              "      <td>5</td>\n",
              "      <td>Father of the Bride Part II (1995)</td>\n",
              "      <td>Comedy</td>\n",
              "    </tr>\n",
              "  </tbody>\n",
              "</table>\n",
              "</div>"
            ],
            "text/plain": [
              "   movieId  ...                                       genres\n",
              "0        1  ...  Adventure|Animation|Children|Comedy|Fantasy\n",
              "1        2  ...                   Adventure|Children|Fantasy\n",
              "2        3  ...                               Comedy|Romance\n",
              "3        4  ...                         Comedy|Drama|Romance\n",
              "4        5  ...                                       Comedy\n",
              "\n",
              "[5 rows x 3 columns]"
            ]
          },
          "metadata": {
            "tags": []
          },
          "execution_count": 3
        }
      ]
    },
    {
      "cell_type": "code",
      "metadata": {
        "id": "LZcRfBaPuBYn",
        "colab_type": "code",
        "outputId": "c9a3f6a3-ceb5-45a1-cac7-5ccace3ba112",
        "colab": {
          "base_uri": "https://localhost:8080/",
          "height": 1000
        }
      },
      "source": [
        "movies_df.head"
      ],
      "execution_count": 0,
      "outputs": [
        {
          "output_type": "execute_result",
          "data": {
            "text/plain": [
              "<bound method NDFrame.head of        movieId  ...                                       genres\n",
              "0            1  ...  Adventure|Animation|Children|Comedy|Fantasy\n",
              "1            2  ...                   Adventure|Children|Fantasy\n",
              "2            3  ...                               Comedy|Romance\n",
              "3            4  ...                         Comedy|Drama|Romance\n",
              "4            5  ...                                       Comedy\n",
              "5            6  ...                        Action|Crime|Thriller\n",
              "6            7  ...                               Comedy|Romance\n",
              "7            8  ...                           Adventure|Children\n",
              "8            9  ...                                       Action\n",
              "9           10  ...                    Action|Adventure|Thriller\n",
              "10          11  ...                         Comedy|Drama|Romance\n",
              "11          12  ...                                Comedy|Horror\n",
              "12          13  ...                 Adventure|Animation|Children\n",
              "13          14  ...                                        Drama\n",
              "14          15  ...                     Action|Adventure|Romance\n",
              "15          16  ...                                  Crime|Drama\n",
              "16          17  ...                                Drama|Romance\n",
              "17          18  ...                                       Comedy\n",
              "18          19  ...                                       Comedy\n",
              "19          20  ...           Action|Comedy|Crime|Drama|Thriller\n",
              "20          21  ...                        Comedy|Crime|Thriller\n",
              "21          22  ...          Crime|Drama|Horror|Mystery|Thriller\n",
              "22          23  ...                        Action|Crime|Thriller\n",
              "23          24  ...                                 Drama|Sci-Fi\n",
              "24          25  ...                                Drama|Romance\n",
              "25          26  ...                                        Drama\n",
              "26          27  ...                               Children|Drama\n",
              "27          28  ...                                Drama|Romance\n",
              "28          29  ...       Adventure|Drama|Fantasy|Mystery|Sci-Fi\n",
              "29          30  ...                                  Crime|Drama\n",
              "...        ...  ...                                          ...\n",
              "34178   151625  ...                                  Documentary\n",
              "34179   151627  ...                                     Thriller\n",
              "34180   151629  ...                                Drama|Romance\n",
              "34181   151631  ...                                        Drama\n",
              "34182   151641  ...                                        Drama\n",
              "34183   151645  ...                                       Horror\n",
              "34184   151647  ...                                        Drama\n",
              "34185   151649  ...                                  Documentary\n",
              "34186   151655  ...                            Adventure|Fantasy\n",
              "34187   151657  ...                Drama|Horror|Mystery|Thriller\n",
              "34188   151661  ...                                Drama|Romance\n",
              "34189   151663  ...                               Comedy|Romance\n",
              "34190   151667  ...                           (no genres listed)\n",
              "34191   151669  ...                           (no genres listed)\n",
              "34192   151671  ...                                     Thriller\n",
              "34193   151673  ...         Action|Comedy|Crime|Romance|Thriller\n",
              "34194   151675  ...                                Comedy|Sci-Fi\n",
              "34195   151677  ...                           (no genres listed)\n",
              "34196   151679  ...                                       Comedy\n",
              "34197   151683  ...                                        Drama\n",
              "34198   151685  ...                           (no genres listed)\n",
              "34199   151687  ...                               Children|Drama\n",
              "34200   151689  ...                                  Documentary\n",
              "34201   151691  ...                                       Comedy\n",
              "34202   151695  ...                        Drama|Sci-Fi|Thriller\n",
              "34203   151697  ...                                     Thriller\n",
              "34204   151701  ...                           (no genres listed)\n",
              "34205   151703  ...                                        Drama\n",
              "34206   151709  ...                                 Drama|Sci-Fi\n",
              "34207   151711  ...                           (no genres listed)\n",
              "\n",
              "[34208 rows x 3 columns]>"
            ]
          },
          "metadata": {
            "tags": []
          },
          "execution_count": 4
        }
      ]
    },
    {
      "cell_type": "markdown",
      "metadata": {
        "id": "QxvCQ6Q0uKqx",
        "colab_type": "text"
      },
      "source": [
        "Let's also remove the year from the title column by using pandas' replace function and store in a new year column."
      ]
    },
    {
      "cell_type": "code",
      "metadata": {
        "id": "4hK1M7bwuGN_",
        "colab_type": "code",
        "outputId": "3cdbc80a-fdb1-4af8-e312-ce5aa88f77a3",
        "colab": {
          "base_uri": "https://localhost:8080/",
          "height": 204
        }
      },
      "source": [
        "#Using regular expressions to find a year stored between parentheses\n",
        "#We specify the parantheses so we don't conflict with movies that have years in their titles\n",
        "movies_df['year'] = movies_df.title.str.extract('(\\(\\d\\d\\d\\d\\))',expand=False)\n",
        "#Removing the parentheses\n",
        "movies_df['year'] = movies_df.year.str.extract('(\\d\\d\\d\\d)',expand=False)\n",
        "#Removing the years from the 'title' column\n",
        "movies_df['title'] = movies_df.title.str.replace('(\\(\\d\\d\\d\\d\\))', '')\n",
        "#Applying the strip function to get rid of any ending whitespace characters that may have appeared\n",
        "movies_df['title'] = movies_df['title'].apply(lambda x: x.strip())\n",
        "movies_df.head()"
      ],
      "execution_count": 0,
      "outputs": [
        {
          "output_type": "execute_result",
          "data": {
            "text/html": [
              "<div>\n",
              "<style scoped>\n",
              "    .dataframe tbody tr th:only-of-type {\n",
              "        vertical-align: middle;\n",
              "    }\n",
              "\n",
              "    .dataframe tbody tr th {\n",
              "        vertical-align: top;\n",
              "    }\n",
              "\n",
              "    .dataframe thead th {\n",
              "        text-align: right;\n",
              "    }\n",
              "</style>\n",
              "<table border=\"1\" class=\"dataframe\">\n",
              "  <thead>\n",
              "    <tr style=\"text-align: right;\">\n",
              "      <th></th>\n",
              "      <th>movieId</th>\n",
              "      <th>title</th>\n",
              "      <th>genres</th>\n",
              "      <th>year</th>\n",
              "    </tr>\n",
              "  </thead>\n",
              "  <tbody>\n",
              "    <tr>\n",
              "      <th>0</th>\n",
              "      <td>1</td>\n",
              "      <td>Toy Story</td>\n",
              "      <td>Adventure|Animation|Children|Comedy|Fantasy</td>\n",
              "      <td>1995</td>\n",
              "    </tr>\n",
              "    <tr>\n",
              "      <th>1</th>\n",
              "      <td>2</td>\n",
              "      <td>Jumanji</td>\n",
              "      <td>Adventure|Children|Fantasy</td>\n",
              "      <td>1995</td>\n",
              "    </tr>\n",
              "    <tr>\n",
              "      <th>2</th>\n",
              "      <td>3</td>\n",
              "      <td>Grumpier Old Men</td>\n",
              "      <td>Comedy|Romance</td>\n",
              "      <td>1995</td>\n",
              "    </tr>\n",
              "    <tr>\n",
              "      <th>3</th>\n",
              "      <td>4</td>\n",
              "      <td>Waiting to Exhale</td>\n",
              "      <td>Comedy|Drama|Romance</td>\n",
              "      <td>1995</td>\n",
              "    </tr>\n",
              "    <tr>\n",
              "      <th>4</th>\n",
              "      <td>5</td>\n",
              "      <td>Father of the Bride Part II</td>\n",
              "      <td>Comedy</td>\n",
              "      <td>1995</td>\n",
              "    </tr>\n",
              "  </tbody>\n",
              "</table>\n",
              "</div>"
            ],
            "text/plain": [
              "   movieId  ...  year\n",
              "0        1  ...  1995\n",
              "1        2  ...  1995\n",
              "2        3  ...  1995\n",
              "3        4  ...  1995\n",
              "4        5  ...  1995\n",
              "\n",
              "[5 rows x 4 columns]"
            ]
          },
          "metadata": {
            "tags": []
          },
          "execution_count": 5
        }
      ]
    },
    {
      "cell_type": "markdown",
      "metadata": {
        "id": "aTb9Cke6uQtX",
        "colab_type": "text"
      },
      "source": [
        "With that, let's also split the values in the Genres column into a list of Genres to simplify future use. This can be achieved by applying Python's split string function on the correct column."
      ]
    },
    {
      "cell_type": "code",
      "metadata": {
        "id": "mrEgd2iauNsv",
        "colab_type": "code",
        "outputId": "48d55593-55a9-4f29-86a0-3c104954d110",
        "colab": {
          "base_uri": "https://localhost:8080/",
          "height": 204
        }
      },
      "source": [
        "#Every genre is separated by a | so we simply have to call the split function on |\n",
        "movies_df['genres'] = movies_df.genres.str.split('|')\n",
        "movies_df.head()"
      ],
      "execution_count": 0,
      "outputs": [
        {
          "output_type": "execute_result",
          "data": {
            "text/html": [
              "<div>\n",
              "<style scoped>\n",
              "    .dataframe tbody tr th:only-of-type {\n",
              "        vertical-align: middle;\n",
              "    }\n",
              "\n",
              "    .dataframe tbody tr th {\n",
              "        vertical-align: top;\n",
              "    }\n",
              "\n",
              "    .dataframe thead th {\n",
              "        text-align: right;\n",
              "    }\n",
              "</style>\n",
              "<table border=\"1\" class=\"dataframe\">\n",
              "  <thead>\n",
              "    <tr style=\"text-align: right;\">\n",
              "      <th></th>\n",
              "      <th>movieId</th>\n",
              "      <th>title</th>\n",
              "      <th>genres</th>\n",
              "      <th>year</th>\n",
              "    </tr>\n",
              "  </thead>\n",
              "  <tbody>\n",
              "    <tr>\n",
              "      <th>0</th>\n",
              "      <td>1</td>\n",
              "      <td>Toy Story</td>\n",
              "      <td>[Adventure, Animation, Children, Comedy, Fantasy]</td>\n",
              "      <td>1995</td>\n",
              "    </tr>\n",
              "    <tr>\n",
              "      <th>1</th>\n",
              "      <td>2</td>\n",
              "      <td>Jumanji</td>\n",
              "      <td>[Adventure, Children, Fantasy]</td>\n",
              "      <td>1995</td>\n",
              "    </tr>\n",
              "    <tr>\n",
              "      <th>2</th>\n",
              "      <td>3</td>\n",
              "      <td>Grumpier Old Men</td>\n",
              "      <td>[Comedy, Romance]</td>\n",
              "      <td>1995</td>\n",
              "    </tr>\n",
              "    <tr>\n",
              "      <th>3</th>\n",
              "      <td>4</td>\n",
              "      <td>Waiting to Exhale</td>\n",
              "      <td>[Comedy, Drama, Romance]</td>\n",
              "      <td>1995</td>\n",
              "    </tr>\n",
              "    <tr>\n",
              "      <th>4</th>\n",
              "      <td>5</td>\n",
              "      <td>Father of the Bride Part II</td>\n",
              "      <td>[Comedy]</td>\n",
              "      <td>1995</td>\n",
              "    </tr>\n",
              "  </tbody>\n",
              "</table>\n",
              "</div>"
            ],
            "text/plain": [
              "   movieId  ...  year\n",
              "0        1  ...  1995\n",
              "1        2  ...  1995\n",
              "2        3  ...  1995\n",
              "3        4  ...  1995\n",
              "4        5  ...  1995\n",
              "\n",
              "[5 rows x 4 columns]"
            ]
          },
          "metadata": {
            "tags": []
          },
          "execution_count": 6
        }
      ]
    },
    {
      "cell_type": "markdown",
      "metadata": {
        "id": "Qjv2ozTKuqEc",
        "colab_type": "text"
      },
      "source": [
        "Since keeping genres in a list format isn't optimal for the content-based recommendation system technique, we will use the One Hot Encoding technique to convert the list of genres to a vector where each column corresponds to one possible value of the feature. This encoding is needed for feeding categorical data. In this case, we store every different genre in columns that contain either 1 or 0. 1 shows that a movie has that genre and 0 shows that it doesn't. Let's also store this dataframe in another variable since genres won't be important for our first recommendation system."
      ]
    },
    {
      "cell_type": "code",
      "metadata": {
        "id": "wWzm_Z98uk7-",
        "colab_type": "code",
        "outputId": "314e641b-f84b-4f95-88a6-39e1c71dba86",
        "colab": {
          "base_uri": "https://localhost:8080/",
          "height": 289
        }
      },
      "source": [
        "#Copying the movie dataframe into a new one since we won't need to use the genre information in our first case.\n",
        "moviesWithGenres_df = movies_df.copy()\n",
        "\n",
        "#For every row in the dataframe, iterate through the list of genres and place a 1 into the corresponding column\n",
        "for index, row in movies_df.iterrows():\n",
        "    for genre in row['genres']:\n",
        "        moviesWithGenres_df.at[index, genre] = 1\n",
        "#Filling in the NaN values with 0 to show that a movie doesn't have that column's genre\n",
        "moviesWithGenres_df = moviesWithGenres_df.fillna(0)\n",
        "moviesWithGenres_df.head()"
      ],
      "execution_count": 0,
      "outputs": [
        {
          "output_type": "execute_result",
          "data": {
            "text/html": [
              "<div>\n",
              "<style scoped>\n",
              "    .dataframe tbody tr th:only-of-type {\n",
              "        vertical-align: middle;\n",
              "    }\n",
              "\n",
              "    .dataframe tbody tr th {\n",
              "        vertical-align: top;\n",
              "    }\n",
              "\n",
              "    .dataframe thead th {\n",
              "        text-align: right;\n",
              "    }\n",
              "</style>\n",
              "<table border=\"1\" class=\"dataframe\">\n",
              "  <thead>\n",
              "    <tr style=\"text-align: right;\">\n",
              "      <th></th>\n",
              "      <th>movieId</th>\n",
              "      <th>title</th>\n",
              "      <th>genres</th>\n",
              "      <th>year</th>\n",
              "      <th>Adventure</th>\n",
              "      <th>Animation</th>\n",
              "      <th>Children</th>\n",
              "      <th>Comedy</th>\n",
              "      <th>Fantasy</th>\n",
              "      <th>Romance</th>\n",
              "      <th>Drama</th>\n",
              "      <th>Action</th>\n",
              "      <th>Crime</th>\n",
              "      <th>Thriller</th>\n",
              "      <th>Horror</th>\n",
              "      <th>Mystery</th>\n",
              "      <th>Sci-Fi</th>\n",
              "      <th>IMAX</th>\n",
              "      <th>Documentary</th>\n",
              "      <th>War</th>\n",
              "      <th>Musical</th>\n",
              "      <th>Western</th>\n",
              "      <th>Film-Noir</th>\n",
              "      <th>(no genres listed)</th>\n",
              "    </tr>\n",
              "  </thead>\n",
              "  <tbody>\n",
              "    <tr>\n",
              "      <th>0</th>\n",
              "      <td>1</td>\n",
              "      <td>Toy Story</td>\n",
              "      <td>[Adventure, Animation, Children, Comedy, Fantasy]</td>\n",
              "      <td>1995</td>\n",
              "      <td>1.0</td>\n",
              "      <td>1.0</td>\n",
              "      <td>1.0</td>\n",
              "      <td>1.0</td>\n",
              "      <td>1.0</td>\n",
              "      <td>0.0</td>\n",
              "      <td>0.0</td>\n",
              "      <td>0.0</td>\n",
              "      <td>0.0</td>\n",
              "      <td>0.0</td>\n",
              "      <td>0.0</td>\n",
              "      <td>0.0</td>\n",
              "      <td>0.0</td>\n",
              "      <td>0.0</td>\n",
              "      <td>0.0</td>\n",
              "      <td>0.0</td>\n",
              "      <td>0.0</td>\n",
              "      <td>0.0</td>\n",
              "      <td>0.0</td>\n",
              "      <td>0.0</td>\n",
              "    </tr>\n",
              "    <tr>\n",
              "      <th>1</th>\n",
              "      <td>2</td>\n",
              "      <td>Jumanji</td>\n",
              "      <td>[Adventure, Children, Fantasy]</td>\n",
              "      <td>1995</td>\n",
              "      <td>1.0</td>\n",
              "      <td>0.0</td>\n",
              "      <td>1.0</td>\n",
              "      <td>0.0</td>\n",
              "      <td>1.0</td>\n",
              "      <td>0.0</td>\n",
              "      <td>0.0</td>\n",
              "      <td>0.0</td>\n",
              "      <td>0.0</td>\n",
              "      <td>0.0</td>\n",
              "      <td>0.0</td>\n",
              "      <td>0.0</td>\n",
              "      <td>0.0</td>\n",
              "      <td>0.0</td>\n",
              "      <td>0.0</td>\n",
              "      <td>0.0</td>\n",
              "      <td>0.0</td>\n",
              "      <td>0.0</td>\n",
              "      <td>0.0</td>\n",
              "      <td>0.0</td>\n",
              "    </tr>\n",
              "    <tr>\n",
              "      <th>2</th>\n",
              "      <td>3</td>\n",
              "      <td>Grumpier Old Men</td>\n",
              "      <td>[Comedy, Romance]</td>\n",
              "      <td>1995</td>\n",
              "      <td>0.0</td>\n",
              "      <td>0.0</td>\n",
              "      <td>0.0</td>\n",
              "      <td>1.0</td>\n",
              "      <td>0.0</td>\n",
              "      <td>1.0</td>\n",
              "      <td>0.0</td>\n",
              "      <td>0.0</td>\n",
              "      <td>0.0</td>\n",
              "      <td>0.0</td>\n",
              "      <td>0.0</td>\n",
              "      <td>0.0</td>\n",
              "      <td>0.0</td>\n",
              "      <td>0.0</td>\n",
              "      <td>0.0</td>\n",
              "      <td>0.0</td>\n",
              "      <td>0.0</td>\n",
              "      <td>0.0</td>\n",
              "      <td>0.0</td>\n",
              "      <td>0.0</td>\n",
              "    </tr>\n",
              "    <tr>\n",
              "      <th>3</th>\n",
              "      <td>4</td>\n",
              "      <td>Waiting to Exhale</td>\n",
              "      <td>[Comedy, Drama, Romance]</td>\n",
              "      <td>1995</td>\n",
              "      <td>0.0</td>\n",
              "      <td>0.0</td>\n",
              "      <td>0.0</td>\n",
              "      <td>1.0</td>\n",
              "      <td>0.0</td>\n",
              "      <td>1.0</td>\n",
              "      <td>1.0</td>\n",
              "      <td>0.0</td>\n",
              "      <td>0.0</td>\n",
              "      <td>0.0</td>\n",
              "      <td>0.0</td>\n",
              "      <td>0.0</td>\n",
              "      <td>0.0</td>\n",
              "      <td>0.0</td>\n",
              "      <td>0.0</td>\n",
              "      <td>0.0</td>\n",
              "      <td>0.0</td>\n",
              "      <td>0.0</td>\n",
              "      <td>0.0</td>\n",
              "      <td>0.0</td>\n",
              "    </tr>\n",
              "    <tr>\n",
              "      <th>4</th>\n",
              "      <td>5</td>\n",
              "      <td>Father of the Bride Part II</td>\n",
              "      <td>[Comedy]</td>\n",
              "      <td>1995</td>\n",
              "      <td>0.0</td>\n",
              "      <td>0.0</td>\n",
              "      <td>0.0</td>\n",
              "      <td>1.0</td>\n",
              "      <td>0.0</td>\n",
              "      <td>0.0</td>\n",
              "      <td>0.0</td>\n",
              "      <td>0.0</td>\n",
              "      <td>0.0</td>\n",
              "      <td>0.0</td>\n",
              "      <td>0.0</td>\n",
              "      <td>0.0</td>\n",
              "      <td>0.0</td>\n",
              "      <td>0.0</td>\n",
              "      <td>0.0</td>\n",
              "      <td>0.0</td>\n",
              "      <td>0.0</td>\n",
              "      <td>0.0</td>\n",
              "      <td>0.0</td>\n",
              "      <td>0.0</td>\n",
              "    </tr>\n",
              "  </tbody>\n",
              "</table>\n",
              "</div>"
            ],
            "text/plain": [
              "   movieId                        title  ... Film-Noir (no genres listed)\n",
              "0        1                    Toy Story  ...       0.0                0.0\n",
              "1        2                      Jumanji  ...       0.0                0.0\n",
              "2        3             Grumpier Old Men  ...       0.0                0.0\n",
              "3        4            Waiting to Exhale  ...       0.0                0.0\n",
              "4        5  Father of the Bride Part II  ...       0.0                0.0\n",
              "\n",
              "[5 rows x 24 columns]"
            ]
          },
          "metadata": {
            "tags": []
          },
          "execution_count": 7
        }
      ]
    },
    {
      "cell_type": "markdown",
      "metadata": {
        "id": "N11B0fG6uydo",
        "colab_type": "text"
      },
      "source": [
        "Next, let's look at the ratings dataframe."
      ]
    },
    {
      "cell_type": "code",
      "metadata": {
        "id": "PFQ5SFTTuuu_",
        "colab_type": "code",
        "outputId": "3514b102-13e6-4d1e-bab3-5e65c71d9863",
        "colab": {
          "base_uri": "https://localhost:8080/",
          "height": 204
        }
      },
      "source": [
        "ratings_df.head()"
      ],
      "execution_count": 0,
      "outputs": [
        {
          "output_type": "execute_result",
          "data": {
            "text/html": [
              "<div>\n",
              "<style scoped>\n",
              "    .dataframe tbody tr th:only-of-type {\n",
              "        vertical-align: middle;\n",
              "    }\n",
              "\n",
              "    .dataframe tbody tr th {\n",
              "        vertical-align: top;\n",
              "    }\n",
              "\n",
              "    .dataframe thead th {\n",
              "        text-align: right;\n",
              "    }\n",
              "</style>\n",
              "<table border=\"1\" class=\"dataframe\">\n",
              "  <thead>\n",
              "    <tr style=\"text-align: right;\">\n",
              "      <th></th>\n",
              "      <th>userId</th>\n",
              "      <th>movieId</th>\n",
              "      <th>rating</th>\n",
              "      <th>timestamp</th>\n",
              "    </tr>\n",
              "  </thead>\n",
              "  <tbody>\n",
              "    <tr>\n",
              "      <th>0</th>\n",
              "      <td>1</td>\n",
              "      <td>169</td>\n",
              "      <td>2.5</td>\n",
              "      <td>1204927694</td>\n",
              "    </tr>\n",
              "    <tr>\n",
              "      <th>1</th>\n",
              "      <td>1</td>\n",
              "      <td>2471</td>\n",
              "      <td>3.0</td>\n",
              "      <td>1204927438</td>\n",
              "    </tr>\n",
              "    <tr>\n",
              "      <th>2</th>\n",
              "      <td>1</td>\n",
              "      <td>48516</td>\n",
              "      <td>5.0</td>\n",
              "      <td>1204927435</td>\n",
              "    </tr>\n",
              "    <tr>\n",
              "      <th>3</th>\n",
              "      <td>2</td>\n",
              "      <td>2571</td>\n",
              "      <td>3.5</td>\n",
              "      <td>1436165433</td>\n",
              "    </tr>\n",
              "    <tr>\n",
              "      <th>4</th>\n",
              "      <td>2</td>\n",
              "      <td>109487</td>\n",
              "      <td>4.0</td>\n",
              "      <td>1436165496</td>\n",
              "    </tr>\n",
              "  </tbody>\n",
              "</table>\n",
              "</div>"
            ],
            "text/plain": [
              "   userId  movieId  rating   timestamp\n",
              "0       1      169     2.5  1204927694\n",
              "1       1     2471     3.0  1204927438\n",
              "2       1    48516     5.0  1204927435\n",
              "3       2     2571     3.5  1436165433\n",
              "4       2   109487     4.0  1436165496"
            ]
          },
          "metadata": {
            "tags": []
          },
          "execution_count": 8
        }
      ]
    },
    {
      "cell_type": "code",
      "metadata": {
        "id": "roxuNaG3u1NP",
        "colab_type": "code",
        "outputId": "98cbac2e-1b52-48e4-ec9a-3b77f7c7da34",
        "colab": {
          "base_uri": "https://localhost:8080/",
          "height": 34
        }
      },
      "source": [
        "ratings_df.shape"
      ],
      "execution_count": 0,
      "outputs": [
        {
          "output_type": "execute_result",
          "data": {
            "text/plain": [
              "(22884377, 4)"
            ]
          },
          "metadata": {
            "tags": []
          },
          "execution_count": 9
        }
      ]
    },
    {
      "cell_type": "markdown",
      "metadata": {
        "id": "aH30ZeYou6aT",
        "colab_type": "text"
      },
      "source": [
        "Every row in the ratings dataframe has a user id associated with at least one movie, a rating and a timestamp showing when they reviewed it. We won't be needing the timestamp column, so let's drop it to save on memory."
      ]
    },
    {
      "cell_type": "code",
      "metadata": {
        "id": "UzU9DkILu37H",
        "colab_type": "code",
        "outputId": "aa9018d2-a5c7-48e6-ef40-de44a8617a0d",
        "colab": {
          "base_uri": "https://localhost:8080/",
          "height": 204
        }
      },
      "source": [
        "#Drop removes a specified row or column from a dataframe\n",
        "ratings_df = ratings_df.drop('timestamp', 1)\n",
        "ratings_df.head()"
      ],
      "execution_count": 0,
      "outputs": [
        {
          "output_type": "execute_result",
          "data": {
            "text/html": [
              "<div>\n",
              "<style scoped>\n",
              "    .dataframe tbody tr th:only-of-type {\n",
              "        vertical-align: middle;\n",
              "    }\n",
              "\n",
              "    .dataframe tbody tr th {\n",
              "        vertical-align: top;\n",
              "    }\n",
              "\n",
              "    .dataframe thead th {\n",
              "        text-align: right;\n",
              "    }\n",
              "</style>\n",
              "<table border=\"1\" class=\"dataframe\">\n",
              "  <thead>\n",
              "    <tr style=\"text-align: right;\">\n",
              "      <th></th>\n",
              "      <th>userId</th>\n",
              "      <th>movieId</th>\n",
              "      <th>rating</th>\n",
              "    </tr>\n",
              "  </thead>\n",
              "  <tbody>\n",
              "    <tr>\n",
              "      <th>0</th>\n",
              "      <td>1</td>\n",
              "      <td>169</td>\n",
              "      <td>2.5</td>\n",
              "    </tr>\n",
              "    <tr>\n",
              "      <th>1</th>\n",
              "      <td>1</td>\n",
              "      <td>2471</td>\n",
              "      <td>3.0</td>\n",
              "    </tr>\n",
              "    <tr>\n",
              "      <th>2</th>\n",
              "      <td>1</td>\n",
              "      <td>48516</td>\n",
              "      <td>5.0</td>\n",
              "    </tr>\n",
              "    <tr>\n",
              "      <th>3</th>\n",
              "      <td>2</td>\n",
              "      <td>2571</td>\n",
              "      <td>3.5</td>\n",
              "    </tr>\n",
              "    <tr>\n",
              "      <th>4</th>\n",
              "      <td>2</td>\n",
              "      <td>109487</td>\n",
              "      <td>4.0</td>\n",
              "    </tr>\n",
              "  </tbody>\n",
              "</table>\n",
              "</div>"
            ],
            "text/plain": [
              "   userId  movieId  rating\n",
              "0       1      169     2.5\n",
              "1       1     2471     3.0\n",
              "2       1    48516     5.0\n",
              "3       2     2571     3.5\n",
              "4       2   109487     4.0"
            ]
          },
          "metadata": {
            "tags": []
          },
          "execution_count": 10
        }
      ]
    },
    {
      "cell_type": "markdown",
      "metadata": {
        "id": "Vfu8zUbuvBYN",
        "colab_type": "text"
      },
      "source": [
        "## Content-Based recommendation system"
      ]
    },
    {
      "cell_type": "markdown",
      "metadata": {
        "id": "pfvukTpevKzX",
        "colab_type": "text"
      },
      "source": [
        "Now, let's take a look at how to implement __Content-Based__ or __Item-Item recommendation systems__. This technique attempts to figure out what a user's favourite aspects of an item is, and then recommends items that present those aspects. In our case, we're going to try to figure out the input's favorite genres from the movies and ratings given.\n",
        "\n",
        "Let's begin by creating an input user to recommend movies to:\n",
        "\n",
        "Notice: To add more movies, simply increase the amount of elements in the __userInput__. Feel free to add more in! Just be sure to write it in with capital letters and if a movie starts with a \"The\", like \"The Matrix\" then write it in like this: 'Matrix, The' ."
      ]
    },
    {
      "cell_type": "code",
      "metadata": {
        "id": "VLKB-wdFu-7H",
        "colab_type": "code",
        "outputId": "245f3b87-7872-4d30-f4b2-4f358a74af99",
        "colab": {
          "base_uri": "https://localhost:8080/",
          "height": 204
        }
      },
      "source": [
        "userInput = [\n",
        "            {'title':'Breakfast Club, The', 'rating':5},\n",
        "            {'title':'Toy Story', 'rating':3.5},\n",
        "            {'title':'Jumanji', 'rating':2},\n",
        "            {'title':\"Pulp Fiction\", 'rating':5},\n",
        "            {'title':'Akira', 'rating':4.5}\n",
        "         ] \n",
        "inputMovies = pd.DataFrame(userInput)\n",
        "inputMovies"
      ],
      "execution_count": 0,
      "outputs": [
        {
          "output_type": "execute_result",
          "data": {
            "text/html": [
              "<div>\n",
              "<style scoped>\n",
              "    .dataframe tbody tr th:only-of-type {\n",
              "        vertical-align: middle;\n",
              "    }\n",
              "\n",
              "    .dataframe tbody tr th {\n",
              "        vertical-align: top;\n",
              "    }\n",
              "\n",
              "    .dataframe thead th {\n",
              "        text-align: right;\n",
              "    }\n",
              "</style>\n",
              "<table border=\"1\" class=\"dataframe\">\n",
              "  <thead>\n",
              "    <tr style=\"text-align: right;\">\n",
              "      <th></th>\n",
              "      <th>rating</th>\n",
              "      <th>title</th>\n",
              "    </tr>\n",
              "  </thead>\n",
              "  <tbody>\n",
              "    <tr>\n",
              "      <th>0</th>\n",
              "      <td>5.0</td>\n",
              "      <td>Breakfast Club, The</td>\n",
              "    </tr>\n",
              "    <tr>\n",
              "      <th>1</th>\n",
              "      <td>3.5</td>\n",
              "      <td>Toy Story</td>\n",
              "    </tr>\n",
              "    <tr>\n",
              "      <th>2</th>\n",
              "      <td>2.0</td>\n",
              "      <td>Jumanji</td>\n",
              "    </tr>\n",
              "    <tr>\n",
              "      <th>3</th>\n",
              "      <td>5.0</td>\n",
              "      <td>Pulp Fiction</td>\n",
              "    </tr>\n",
              "    <tr>\n",
              "      <th>4</th>\n",
              "      <td>4.5</td>\n",
              "      <td>Akira</td>\n",
              "    </tr>\n",
              "  </tbody>\n",
              "</table>\n",
              "</div>"
            ],
            "text/plain": [
              "   rating                title\n",
              "0     5.0  Breakfast Club, The\n",
              "1     3.5            Toy Story\n",
              "2     2.0              Jumanji\n",
              "3     5.0         Pulp Fiction\n",
              "4     4.5                Akira"
            ]
          },
          "metadata": {
            "tags": []
          },
          "execution_count": 11
        }
      ]
    },
    {
      "cell_type": "markdown",
      "metadata": {
        "id": "1iqSsfGZvnmT",
        "colab_type": "text"
      },
      "source": [
        "\n",
        "**Add movieId to input user**"
      ]
    },
    {
      "cell_type": "markdown",
      "metadata": {
        "id": "DJPE0jVYvyNx",
        "colab_type": "text"
      },
      "source": [
        "With the input complete, let's extract the input movie's ID's from the movies dataframe and add them into it.\n",
        "\n",
        "We can achieve this by first filtering out the rows that contain the input movie's title and then merging this subset with the input dataframe. We also drop unnecessary columns for the input to save memory space."
      ]
    },
    {
      "cell_type": "code",
      "metadata": {
        "id": "TXx2sbDMvOih",
        "colab_type": "code",
        "outputId": "9e2c9eb0-d861-45d1-af30-ba92242043a1",
        "colab": {
          "base_uri": "https://localhost:8080/",
          "height": 204
        }
      },
      "source": [
        "#Filtering out the movies by title\n",
        "inputId = movies_df[movies_df['title'].isin(inputMovies['title'].tolist())]\n",
        "#Then merging it so we can get the movieId. It's implicitly merging it by title.\n",
        "inputMovies = pd.merge(inputId, inputMovies)\n",
        "#Dropping information we won't use from the input dataframe\n",
        "inputMovies = inputMovies.drop('genres', 1).drop('year', 1)\n",
        "#Final input dataframe\n",
        "#If a movie you added in above isn't here, then it might not be in the original \n",
        "#dataframe or it might spelled differently, please check capitalisation.\n",
        "inputMovies"
      ],
      "execution_count": 0,
      "outputs": [
        {
          "output_type": "execute_result",
          "data": {
            "text/html": [
              "<div>\n",
              "<style scoped>\n",
              "    .dataframe tbody tr th:only-of-type {\n",
              "        vertical-align: middle;\n",
              "    }\n",
              "\n",
              "    .dataframe tbody tr th {\n",
              "        vertical-align: top;\n",
              "    }\n",
              "\n",
              "    .dataframe thead th {\n",
              "        text-align: right;\n",
              "    }\n",
              "</style>\n",
              "<table border=\"1\" class=\"dataframe\">\n",
              "  <thead>\n",
              "    <tr style=\"text-align: right;\">\n",
              "      <th></th>\n",
              "      <th>movieId</th>\n",
              "      <th>title</th>\n",
              "      <th>rating</th>\n",
              "    </tr>\n",
              "  </thead>\n",
              "  <tbody>\n",
              "    <tr>\n",
              "      <th>0</th>\n",
              "      <td>1</td>\n",
              "      <td>Toy Story</td>\n",
              "      <td>3.5</td>\n",
              "    </tr>\n",
              "    <tr>\n",
              "      <th>1</th>\n",
              "      <td>2</td>\n",
              "      <td>Jumanji</td>\n",
              "      <td>2.0</td>\n",
              "    </tr>\n",
              "    <tr>\n",
              "      <th>2</th>\n",
              "      <td>296</td>\n",
              "      <td>Pulp Fiction</td>\n",
              "      <td>5.0</td>\n",
              "    </tr>\n",
              "    <tr>\n",
              "      <th>3</th>\n",
              "      <td>1274</td>\n",
              "      <td>Akira</td>\n",
              "      <td>4.5</td>\n",
              "    </tr>\n",
              "    <tr>\n",
              "      <th>4</th>\n",
              "      <td>1968</td>\n",
              "      <td>Breakfast Club, The</td>\n",
              "      <td>5.0</td>\n",
              "    </tr>\n",
              "  </tbody>\n",
              "</table>\n",
              "</div>"
            ],
            "text/plain": [
              "   movieId                title  rating\n",
              "0        1            Toy Story     3.5\n",
              "1        2              Jumanji     2.0\n",
              "2      296         Pulp Fiction     5.0\n",
              "3     1274                Akira     4.5\n",
              "4     1968  Breakfast Club, The     5.0"
            ]
          },
          "metadata": {
            "tags": []
          },
          "execution_count": 13
        }
      ]
    },
    {
      "cell_type": "markdown",
      "metadata": {
        "id": "fYXO7OQWv4jD",
        "colab_type": "text"
      },
      "source": [
        "We're going to start by learning the input's preferences, so let's get the subset of movies that the input has watched from the Dataframe containing genres defined with binary values."
      ]
    },
    {
      "cell_type": "code",
      "metadata": {
        "id": "iunC5EsTvvz_",
        "colab_type": "code",
        "outputId": "306d1796-ec2b-4f7c-ab0c-65772e0f6e3c",
        "colab": {
          "base_uri": "https://localhost:8080/",
          "height": 289
        }
      },
      "source": [
        "#Filtering out the movies from the input\n",
        "userMovies = moviesWithGenres_df[moviesWithGenres_df['movieId'].isin(inputMovies['movieId'].tolist())]\n",
        "userMovies"
      ],
      "execution_count": 0,
      "outputs": [
        {
          "output_type": "execute_result",
          "data": {
            "text/html": [
              "<div>\n",
              "<style scoped>\n",
              "    .dataframe tbody tr th:only-of-type {\n",
              "        vertical-align: middle;\n",
              "    }\n",
              "\n",
              "    .dataframe tbody tr th {\n",
              "        vertical-align: top;\n",
              "    }\n",
              "\n",
              "    .dataframe thead th {\n",
              "        text-align: right;\n",
              "    }\n",
              "</style>\n",
              "<table border=\"1\" class=\"dataframe\">\n",
              "  <thead>\n",
              "    <tr style=\"text-align: right;\">\n",
              "      <th></th>\n",
              "      <th>movieId</th>\n",
              "      <th>title</th>\n",
              "      <th>genres</th>\n",
              "      <th>year</th>\n",
              "      <th>Adventure</th>\n",
              "      <th>Animation</th>\n",
              "      <th>Children</th>\n",
              "      <th>Comedy</th>\n",
              "      <th>Fantasy</th>\n",
              "      <th>Romance</th>\n",
              "      <th>Drama</th>\n",
              "      <th>Action</th>\n",
              "      <th>Crime</th>\n",
              "      <th>Thriller</th>\n",
              "      <th>Horror</th>\n",
              "      <th>Mystery</th>\n",
              "      <th>Sci-Fi</th>\n",
              "      <th>IMAX</th>\n",
              "      <th>Documentary</th>\n",
              "      <th>War</th>\n",
              "      <th>Musical</th>\n",
              "      <th>Western</th>\n",
              "      <th>Film-Noir</th>\n",
              "      <th>(no genres listed)</th>\n",
              "    </tr>\n",
              "  </thead>\n",
              "  <tbody>\n",
              "    <tr>\n",
              "      <th>0</th>\n",
              "      <td>1</td>\n",
              "      <td>Toy Story</td>\n",
              "      <td>[Adventure, Animation, Children, Comedy, Fantasy]</td>\n",
              "      <td>1995</td>\n",
              "      <td>1.0</td>\n",
              "      <td>1.0</td>\n",
              "      <td>1.0</td>\n",
              "      <td>1.0</td>\n",
              "      <td>1.0</td>\n",
              "      <td>0.0</td>\n",
              "      <td>0.0</td>\n",
              "      <td>0.0</td>\n",
              "      <td>0.0</td>\n",
              "      <td>0.0</td>\n",
              "      <td>0.0</td>\n",
              "      <td>0.0</td>\n",
              "      <td>0.0</td>\n",
              "      <td>0.0</td>\n",
              "      <td>0.0</td>\n",
              "      <td>0.0</td>\n",
              "      <td>0.0</td>\n",
              "      <td>0.0</td>\n",
              "      <td>0.0</td>\n",
              "      <td>0.0</td>\n",
              "    </tr>\n",
              "    <tr>\n",
              "      <th>1</th>\n",
              "      <td>2</td>\n",
              "      <td>Jumanji</td>\n",
              "      <td>[Adventure, Children, Fantasy]</td>\n",
              "      <td>1995</td>\n",
              "      <td>1.0</td>\n",
              "      <td>0.0</td>\n",
              "      <td>1.0</td>\n",
              "      <td>0.0</td>\n",
              "      <td>1.0</td>\n",
              "      <td>0.0</td>\n",
              "      <td>0.0</td>\n",
              "      <td>0.0</td>\n",
              "      <td>0.0</td>\n",
              "      <td>0.0</td>\n",
              "      <td>0.0</td>\n",
              "      <td>0.0</td>\n",
              "      <td>0.0</td>\n",
              "      <td>0.0</td>\n",
              "      <td>0.0</td>\n",
              "      <td>0.0</td>\n",
              "      <td>0.0</td>\n",
              "      <td>0.0</td>\n",
              "      <td>0.0</td>\n",
              "      <td>0.0</td>\n",
              "    </tr>\n",
              "    <tr>\n",
              "      <th>293</th>\n",
              "      <td>296</td>\n",
              "      <td>Pulp Fiction</td>\n",
              "      <td>[Comedy, Crime, Drama, Thriller]</td>\n",
              "      <td>1994</td>\n",
              "      <td>0.0</td>\n",
              "      <td>0.0</td>\n",
              "      <td>0.0</td>\n",
              "      <td>1.0</td>\n",
              "      <td>0.0</td>\n",
              "      <td>0.0</td>\n",
              "      <td>1.0</td>\n",
              "      <td>0.0</td>\n",
              "      <td>1.0</td>\n",
              "      <td>1.0</td>\n",
              "      <td>0.0</td>\n",
              "      <td>0.0</td>\n",
              "      <td>0.0</td>\n",
              "      <td>0.0</td>\n",
              "      <td>0.0</td>\n",
              "      <td>0.0</td>\n",
              "      <td>0.0</td>\n",
              "      <td>0.0</td>\n",
              "      <td>0.0</td>\n",
              "      <td>0.0</td>\n",
              "    </tr>\n",
              "    <tr>\n",
              "      <th>1246</th>\n",
              "      <td>1274</td>\n",
              "      <td>Akira</td>\n",
              "      <td>[Action, Adventure, Animation, Sci-Fi]</td>\n",
              "      <td>1988</td>\n",
              "      <td>1.0</td>\n",
              "      <td>1.0</td>\n",
              "      <td>0.0</td>\n",
              "      <td>0.0</td>\n",
              "      <td>0.0</td>\n",
              "      <td>0.0</td>\n",
              "      <td>0.0</td>\n",
              "      <td>1.0</td>\n",
              "      <td>0.0</td>\n",
              "      <td>0.0</td>\n",
              "      <td>0.0</td>\n",
              "      <td>0.0</td>\n",
              "      <td>1.0</td>\n",
              "      <td>0.0</td>\n",
              "      <td>0.0</td>\n",
              "      <td>0.0</td>\n",
              "      <td>0.0</td>\n",
              "      <td>0.0</td>\n",
              "      <td>0.0</td>\n",
              "      <td>0.0</td>\n",
              "    </tr>\n",
              "    <tr>\n",
              "      <th>1885</th>\n",
              "      <td>1968</td>\n",
              "      <td>Breakfast Club, The</td>\n",
              "      <td>[Comedy, Drama]</td>\n",
              "      <td>1985</td>\n",
              "      <td>0.0</td>\n",
              "      <td>0.0</td>\n",
              "      <td>0.0</td>\n",
              "      <td>1.0</td>\n",
              "      <td>0.0</td>\n",
              "      <td>0.0</td>\n",
              "      <td>1.0</td>\n",
              "      <td>0.0</td>\n",
              "      <td>0.0</td>\n",
              "      <td>0.0</td>\n",
              "      <td>0.0</td>\n",
              "      <td>0.0</td>\n",
              "      <td>0.0</td>\n",
              "      <td>0.0</td>\n",
              "      <td>0.0</td>\n",
              "      <td>0.0</td>\n",
              "      <td>0.0</td>\n",
              "      <td>0.0</td>\n",
              "      <td>0.0</td>\n",
              "      <td>0.0</td>\n",
              "    </tr>\n",
              "  </tbody>\n",
              "</table>\n",
              "</div>"
            ],
            "text/plain": [
              "      movieId                title  ... Film-Noir (no genres listed)\n",
              "0           1            Toy Story  ...       0.0                0.0\n",
              "1           2              Jumanji  ...       0.0                0.0\n",
              "293       296         Pulp Fiction  ...       0.0                0.0\n",
              "1246     1274                Akira  ...       0.0                0.0\n",
              "1885     1968  Breakfast Club, The  ...       0.0                0.0\n",
              "\n",
              "[5 rows x 24 columns]"
            ]
          },
          "metadata": {
            "tags": []
          },
          "execution_count": 14
        }
      ]
    },
    {
      "cell_type": "markdown",
      "metadata": {
        "id": "69NW5Pc4v-iE",
        "colab_type": "text"
      },
      "source": [
        "\n",
        "We'll only need the actual genre table, so let's clean this up a bit by resetting the index and dropping the movieId, title, genres and year columns."
      ]
    },
    {
      "cell_type": "code",
      "metadata": {
        "id": "9-vEEPgvv7On",
        "colab_type": "code",
        "outputId": "e970e5be-4573-4149-fc6d-240a79cf06dd",
        "colab": {
          "base_uri": "https://localhost:8080/",
          "height": 204
        }
      },
      "source": [
        "#Resetting the index to avoid future issues\n",
        "userMovies = userMovies.reset_index(drop=True)\n",
        "#Dropping unnecessary issues due to save memory and to avoid issues\n",
        "userGenreTable = userMovies.drop('movieId', 1).drop('title', 1).drop('genres', 1).drop('year', 1)\n",
        "userGenreTable"
      ],
      "execution_count": 0,
      "outputs": [
        {
          "output_type": "execute_result",
          "data": {
            "text/html": [
              "<div>\n",
              "<style scoped>\n",
              "    .dataframe tbody tr th:only-of-type {\n",
              "        vertical-align: middle;\n",
              "    }\n",
              "\n",
              "    .dataframe tbody tr th {\n",
              "        vertical-align: top;\n",
              "    }\n",
              "\n",
              "    .dataframe thead th {\n",
              "        text-align: right;\n",
              "    }\n",
              "</style>\n",
              "<table border=\"1\" class=\"dataframe\">\n",
              "  <thead>\n",
              "    <tr style=\"text-align: right;\">\n",
              "      <th></th>\n",
              "      <th>Adventure</th>\n",
              "      <th>Animation</th>\n",
              "      <th>Children</th>\n",
              "      <th>Comedy</th>\n",
              "      <th>Fantasy</th>\n",
              "      <th>Romance</th>\n",
              "      <th>Drama</th>\n",
              "      <th>Action</th>\n",
              "      <th>Crime</th>\n",
              "      <th>Thriller</th>\n",
              "      <th>Horror</th>\n",
              "      <th>Mystery</th>\n",
              "      <th>Sci-Fi</th>\n",
              "      <th>IMAX</th>\n",
              "      <th>Documentary</th>\n",
              "      <th>War</th>\n",
              "      <th>Musical</th>\n",
              "      <th>Western</th>\n",
              "      <th>Film-Noir</th>\n",
              "      <th>(no genres listed)</th>\n",
              "    </tr>\n",
              "  </thead>\n",
              "  <tbody>\n",
              "    <tr>\n",
              "      <th>0</th>\n",
              "      <td>1.0</td>\n",
              "      <td>1.0</td>\n",
              "      <td>1.0</td>\n",
              "      <td>1.0</td>\n",
              "      <td>1.0</td>\n",
              "      <td>0.0</td>\n",
              "      <td>0.0</td>\n",
              "      <td>0.0</td>\n",
              "      <td>0.0</td>\n",
              "      <td>0.0</td>\n",
              "      <td>0.0</td>\n",
              "      <td>0.0</td>\n",
              "      <td>0.0</td>\n",
              "      <td>0.0</td>\n",
              "      <td>0.0</td>\n",
              "      <td>0.0</td>\n",
              "      <td>0.0</td>\n",
              "      <td>0.0</td>\n",
              "      <td>0.0</td>\n",
              "      <td>0.0</td>\n",
              "    </tr>\n",
              "    <tr>\n",
              "      <th>1</th>\n",
              "      <td>1.0</td>\n",
              "      <td>0.0</td>\n",
              "      <td>1.0</td>\n",
              "      <td>0.0</td>\n",
              "      <td>1.0</td>\n",
              "      <td>0.0</td>\n",
              "      <td>0.0</td>\n",
              "      <td>0.0</td>\n",
              "      <td>0.0</td>\n",
              "      <td>0.0</td>\n",
              "      <td>0.0</td>\n",
              "      <td>0.0</td>\n",
              "      <td>0.0</td>\n",
              "      <td>0.0</td>\n",
              "      <td>0.0</td>\n",
              "      <td>0.0</td>\n",
              "      <td>0.0</td>\n",
              "      <td>0.0</td>\n",
              "      <td>0.0</td>\n",
              "      <td>0.0</td>\n",
              "    </tr>\n",
              "    <tr>\n",
              "      <th>2</th>\n",
              "      <td>0.0</td>\n",
              "      <td>0.0</td>\n",
              "      <td>0.0</td>\n",
              "      <td>1.0</td>\n",
              "      <td>0.0</td>\n",
              "      <td>0.0</td>\n",
              "      <td>1.0</td>\n",
              "      <td>0.0</td>\n",
              "      <td>1.0</td>\n",
              "      <td>1.0</td>\n",
              "      <td>0.0</td>\n",
              "      <td>0.0</td>\n",
              "      <td>0.0</td>\n",
              "      <td>0.0</td>\n",
              "      <td>0.0</td>\n",
              "      <td>0.0</td>\n",
              "      <td>0.0</td>\n",
              "      <td>0.0</td>\n",
              "      <td>0.0</td>\n",
              "      <td>0.0</td>\n",
              "    </tr>\n",
              "    <tr>\n",
              "      <th>3</th>\n",
              "      <td>1.0</td>\n",
              "      <td>1.0</td>\n",
              "      <td>0.0</td>\n",
              "      <td>0.0</td>\n",
              "      <td>0.0</td>\n",
              "      <td>0.0</td>\n",
              "      <td>0.0</td>\n",
              "      <td>1.0</td>\n",
              "      <td>0.0</td>\n",
              "      <td>0.0</td>\n",
              "      <td>0.0</td>\n",
              "      <td>0.0</td>\n",
              "      <td>1.0</td>\n",
              "      <td>0.0</td>\n",
              "      <td>0.0</td>\n",
              "      <td>0.0</td>\n",
              "      <td>0.0</td>\n",
              "      <td>0.0</td>\n",
              "      <td>0.0</td>\n",
              "      <td>0.0</td>\n",
              "    </tr>\n",
              "    <tr>\n",
              "      <th>4</th>\n",
              "      <td>0.0</td>\n",
              "      <td>0.0</td>\n",
              "      <td>0.0</td>\n",
              "      <td>1.0</td>\n",
              "      <td>0.0</td>\n",
              "      <td>0.0</td>\n",
              "      <td>1.0</td>\n",
              "      <td>0.0</td>\n",
              "      <td>0.0</td>\n",
              "      <td>0.0</td>\n",
              "      <td>0.0</td>\n",
              "      <td>0.0</td>\n",
              "      <td>0.0</td>\n",
              "      <td>0.0</td>\n",
              "      <td>0.0</td>\n",
              "      <td>0.0</td>\n",
              "      <td>0.0</td>\n",
              "      <td>0.0</td>\n",
              "      <td>0.0</td>\n",
              "      <td>0.0</td>\n",
              "    </tr>\n",
              "  </tbody>\n",
              "</table>\n",
              "</div>"
            ],
            "text/plain": [
              "   Adventure  Animation  Children  ...  Western  Film-Noir  (no genres listed)\n",
              "0        1.0        1.0       1.0  ...      0.0        0.0                 0.0\n",
              "1        1.0        0.0       1.0  ...      0.0        0.0                 0.0\n",
              "2        0.0        0.0       0.0  ...      0.0        0.0                 0.0\n",
              "3        1.0        1.0       0.0  ...      0.0        0.0                 0.0\n",
              "4        0.0        0.0       0.0  ...      0.0        0.0                 0.0\n",
              "\n",
              "[5 rows x 20 columns]"
            ]
          },
          "metadata": {
            "tags": []
          },
          "execution_count": 15
        }
      ]
    },
    {
      "cell_type": "markdown",
      "metadata": {
        "id": "ANyOikyswFSI",
        "colab_type": "text"
      },
      "source": [
        "Now we're ready to start learning the input's preferences!\n",
        "\n",
        "To do this, we're going to turn each genre into weights. We can do this by using the input's reviews and multiplying them into the input's genre table and then summing up the resulting table by column. This operation is actually a dot product between a matrix and a vector, so we can simply accomplish by calling Pandas's \"dot\" function."
      ]
    },
    {
      "cell_type": "code",
      "metadata": {
        "id": "lRkqRmVhwESG",
        "colab_type": "code",
        "outputId": "632831f8-b69e-47d5-96e5-d9a61112c7d4",
        "colab": {
          "base_uri": "https://localhost:8080/",
          "height": 119
        }
      },
      "source": [
        "inputMovies['rating']"
      ],
      "execution_count": 0,
      "outputs": [
        {
          "output_type": "execute_result",
          "data": {
            "text/plain": [
              "0    3.5\n",
              "1    2.0\n",
              "2    5.0\n",
              "3    4.5\n",
              "4    5.0\n",
              "Name: rating, dtype: float64"
            ]
          },
          "metadata": {
            "tags": []
          },
          "execution_count": 17
        }
      ]
    },
    {
      "cell_type": "code",
      "metadata": {
        "id": "0vNP6DyzwIj-",
        "colab_type": "code",
        "outputId": "9963e65b-db9b-4cb2-c76e-a24e8e5319bb",
        "colab": {
          "base_uri": "https://localhost:8080/",
          "height": 374
        }
      },
      "source": [
        "#Dot produt to get weights\n",
        "userProfile = userGenreTable.transpose().dot(inputMovies['rating'])\n",
        "#The user profile\n",
        "userProfile"
      ],
      "execution_count": 0,
      "outputs": [
        {
          "output_type": "execute_result",
          "data": {
            "text/plain": [
              "Adventure             10.0\n",
              "Animation              8.0\n",
              "Children               5.5\n",
              "Comedy                13.5\n",
              "Fantasy                5.5\n",
              "Romance                0.0\n",
              "Drama                 10.0\n",
              "Action                 4.5\n",
              "Crime                  5.0\n",
              "Thriller               5.0\n",
              "Horror                 0.0\n",
              "Mystery                0.0\n",
              "Sci-Fi                 4.5\n",
              "IMAX                   0.0\n",
              "Documentary            0.0\n",
              "War                    0.0\n",
              "Musical                0.0\n",
              "Western                0.0\n",
              "Film-Noir              0.0\n",
              "(no genres listed)     0.0\n",
              "dtype: float64"
            ]
          },
          "metadata": {
            "tags": []
          },
          "execution_count": 18
        }
      ]
    },
    {
      "cell_type": "markdown",
      "metadata": {
        "id": "h5SSOyFzwNrT",
        "colab_type": "text"
      },
      "source": [
        "\n",
        "Now, we have the weights for every of the user's preferences. This is known as the User Profile. Using this, we can recommend movies that satisfy the user's preferences.\n",
        "\n",
        "Let's start by extracting the genre table from the original dataframe:"
      ]
    },
    {
      "cell_type": "code",
      "metadata": {
        "id": "D05N6OQowKsO",
        "colab_type": "code",
        "outputId": "f80b215d-d792-42ce-eb04-efb0dbc96360",
        "colab": {
          "base_uri": "https://localhost:8080/",
          "height": 235
        }
      },
      "source": [
        "#Now let's get the genres of every movie in our original dataframe\n",
        "genreTable = moviesWithGenres_df.set_index(moviesWithGenres_df['movieId'])\n",
        "#And drop the unnecessary information\n",
        "genreTable = genreTable.drop('movieId', 1).drop('title', 1).drop('genres', 1).drop('year', 1)\n",
        "genreTable.head()"
      ],
      "execution_count": 0,
      "outputs": [
        {
          "output_type": "execute_result",
          "data": {
            "text/html": [
              "<div>\n",
              "<style scoped>\n",
              "    .dataframe tbody tr th:only-of-type {\n",
              "        vertical-align: middle;\n",
              "    }\n",
              "\n",
              "    .dataframe tbody tr th {\n",
              "        vertical-align: top;\n",
              "    }\n",
              "\n",
              "    .dataframe thead th {\n",
              "        text-align: right;\n",
              "    }\n",
              "</style>\n",
              "<table border=\"1\" class=\"dataframe\">\n",
              "  <thead>\n",
              "    <tr style=\"text-align: right;\">\n",
              "      <th></th>\n",
              "      <th>Adventure</th>\n",
              "      <th>Animation</th>\n",
              "      <th>Children</th>\n",
              "      <th>Comedy</th>\n",
              "      <th>Fantasy</th>\n",
              "      <th>Romance</th>\n",
              "      <th>Drama</th>\n",
              "      <th>Action</th>\n",
              "      <th>Crime</th>\n",
              "      <th>Thriller</th>\n",
              "      <th>Horror</th>\n",
              "      <th>Mystery</th>\n",
              "      <th>Sci-Fi</th>\n",
              "      <th>IMAX</th>\n",
              "      <th>Documentary</th>\n",
              "      <th>War</th>\n",
              "      <th>Musical</th>\n",
              "      <th>Western</th>\n",
              "      <th>Film-Noir</th>\n",
              "      <th>(no genres listed)</th>\n",
              "    </tr>\n",
              "    <tr>\n",
              "      <th>movieId</th>\n",
              "      <th></th>\n",
              "      <th></th>\n",
              "      <th></th>\n",
              "      <th></th>\n",
              "      <th></th>\n",
              "      <th></th>\n",
              "      <th></th>\n",
              "      <th></th>\n",
              "      <th></th>\n",
              "      <th></th>\n",
              "      <th></th>\n",
              "      <th></th>\n",
              "      <th></th>\n",
              "      <th></th>\n",
              "      <th></th>\n",
              "      <th></th>\n",
              "      <th></th>\n",
              "      <th></th>\n",
              "      <th></th>\n",
              "      <th></th>\n",
              "    </tr>\n",
              "  </thead>\n",
              "  <tbody>\n",
              "    <tr>\n",
              "      <th>1</th>\n",
              "      <td>1.0</td>\n",
              "      <td>1.0</td>\n",
              "      <td>1.0</td>\n",
              "      <td>1.0</td>\n",
              "      <td>1.0</td>\n",
              "      <td>0.0</td>\n",
              "      <td>0.0</td>\n",
              "      <td>0.0</td>\n",
              "      <td>0.0</td>\n",
              "      <td>0.0</td>\n",
              "      <td>0.0</td>\n",
              "      <td>0.0</td>\n",
              "      <td>0.0</td>\n",
              "      <td>0.0</td>\n",
              "      <td>0.0</td>\n",
              "      <td>0.0</td>\n",
              "      <td>0.0</td>\n",
              "      <td>0.0</td>\n",
              "      <td>0.0</td>\n",
              "      <td>0.0</td>\n",
              "    </tr>\n",
              "    <tr>\n",
              "      <th>2</th>\n",
              "      <td>1.0</td>\n",
              "      <td>0.0</td>\n",
              "      <td>1.0</td>\n",
              "      <td>0.0</td>\n",
              "      <td>1.0</td>\n",
              "      <td>0.0</td>\n",
              "      <td>0.0</td>\n",
              "      <td>0.0</td>\n",
              "      <td>0.0</td>\n",
              "      <td>0.0</td>\n",
              "      <td>0.0</td>\n",
              "      <td>0.0</td>\n",
              "      <td>0.0</td>\n",
              "      <td>0.0</td>\n",
              "      <td>0.0</td>\n",
              "      <td>0.0</td>\n",
              "      <td>0.0</td>\n",
              "      <td>0.0</td>\n",
              "      <td>0.0</td>\n",
              "      <td>0.0</td>\n",
              "    </tr>\n",
              "    <tr>\n",
              "      <th>3</th>\n",
              "      <td>0.0</td>\n",
              "      <td>0.0</td>\n",
              "      <td>0.0</td>\n",
              "      <td>1.0</td>\n",
              "      <td>0.0</td>\n",
              "      <td>1.0</td>\n",
              "      <td>0.0</td>\n",
              "      <td>0.0</td>\n",
              "      <td>0.0</td>\n",
              "      <td>0.0</td>\n",
              "      <td>0.0</td>\n",
              "      <td>0.0</td>\n",
              "      <td>0.0</td>\n",
              "      <td>0.0</td>\n",
              "      <td>0.0</td>\n",
              "      <td>0.0</td>\n",
              "      <td>0.0</td>\n",
              "      <td>0.0</td>\n",
              "      <td>0.0</td>\n",
              "      <td>0.0</td>\n",
              "    </tr>\n",
              "    <tr>\n",
              "      <th>4</th>\n",
              "      <td>0.0</td>\n",
              "      <td>0.0</td>\n",
              "      <td>0.0</td>\n",
              "      <td>1.0</td>\n",
              "      <td>0.0</td>\n",
              "      <td>1.0</td>\n",
              "      <td>1.0</td>\n",
              "      <td>0.0</td>\n",
              "      <td>0.0</td>\n",
              "      <td>0.0</td>\n",
              "      <td>0.0</td>\n",
              "      <td>0.0</td>\n",
              "      <td>0.0</td>\n",
              "      <td>0.0</td>\n",
              "      <td>0.0</td>\n",
              "      <td>0.0</td>\n",
              "      <td>0.0</td>\n",
              "      <td>0.0</td>\n",
              "      <td>0.0</td>\n",
              "      <td>0.0</td>\n",
              "    </tr>\n",
              "    <tr>\n",
              "      <th>5</th>\n",
              "      <td>0.0</td>\n",
              "      <td>0.0</td>\n",
              "      <td>0.0</td>\n",
              "      <td>1.0</td>\n",
              "      <td>0.0</td>\n",
              "      <td>0.0</td>\n",
              "      <td>0.0</td>\n",
              "      <td>0.0</td>\n",
              "      <td>0.0</td>\n",
              "      <td>0.0</td>\n",
              "      <td>0.0</td>\n",
              "      <td>0.0</td>\n",
              "      <td>0.0</td>\n",
              "      <td>0.0</td>\n",
              "      <td>0.0</td>\n",
              "      <td>0.0</td>\n",
              "      <td>0.0</td>\n",
              "      <td>0.0</td>\n",
              "      <td>0.0</td>\n",
              "      <td>0.0</td>\n",
              "    </tr>\n",
              "  </tbody>\n",
              "</table>\n",
              "</div>"
            ],
            "text/plain": [
              "         Adventure  Animation  Children  ...  Western  Film-Noir  (no genres listed)\n",
              "movieId                                  ...                                        \n",
              "1              1.0        1.0       1.0  ...      0.0        0.0                 0.0\n",
              "2              1.0        0.0       1.0  ...      0.0        0.0                 0.0\n",
              "3              0.0        0.0       0.0  ...      0.0        0.0                 0.0\n",
              "4              0.0        0.0       0.0  ...      0.0        0.0                 0.0\n",
              "5              0.0        0.0       0.0  ...      0.0        0.0                 0.0\n",
              "\n",
              "[5 rows x 20 columns]"
            ]
          },
          "metadata": {
            "tags": []
          },
          "execution_count": 19
        }
      ]
    },
    {
      "cell_type": "code",
      "metadata": {
        "id": "RtSEQs82wQZ_",
        "colab_type": "code",
        "outputId": "3b03b2c6-f196-42b1-dff1-b7f460df0dfc",
        "colab": {
          "base_uri": "https://localhost:8080/",
          "height": 34
        }
      },
      "source": [
        "genreTable.shape"
      ],
      "execution_count": 0,
      "outputs": [
        {
          "output_type": "execute_result",
          "data": {
            "text/plain": [
              "(34208, 20)"
            ]
          },
          "metadata": {
            "tags": []
          },
          "execution_count": 20
        }
      ]
    },
    {
      "cell_type": "markdown",
      "metadata": {
        "id": "DJme0AbWwVfr",
        "colab_type": "text"
      },
      "source": [
        "With the input's profile and the complete list of movies and their genres in hand, we're going to take the weighted average of every movie based on the input profile and recommend the top twenty movies that most satisfy it."
      ]
    },
    {
      "cell_type": "code",
      "metadata": {
        "id": "V8k3iA6hwS_P",
        "colab_type": "code",
        "outputId": "6bb4f512-4d38-4d78-b4f1-0a2715a656fa",
        "colab": {
          "base_uri": "https://localhost:8080/",
          "height": 136
        }
      },
      "source": [
        "#Multiply the genres by the weights and then take the weighted average\n",
        "recommendationTable_df = ((genreTable*userProfile).sum(axis=1))/(userProfile.sum())\n",
        "recommendationTable_df.head()"
      ],
      "execution_count": 0,
      "outputs": [
        {
          "output_type": "execute_result",
          "data": {
            "text/plain": [
              "movieId\n",
              "1    0.594406\n",
              "2    0.293706\n",
              "3    0.188811\n",
              "4    0.328671\n",
              "5    0.188811\n",
              "dtype: float64"
            ]
          },
          "metadata": {
            "tags": []
          },
          "execution_count": 21
        }
      ]
    },
    {
      "cell_type": "code",
      "metadata": {
        "id": "K_OODifLwYgn",
        "colab_type": "code",
        "outputId": "ee7a1e4f-acd5-4c87-fc37-57bed91c113d",
        "colab": {
          "base_uri": "https://localhost:8080/",
          "height": 136
        }
      },
      "source": [
        "#Sort our recommendations in descending order\n",
        "recommendationTable_df = recommendationTable_df.sort_values(ascending=False)\n",
        "#Just a peek at the values\n",
        "recommendationTable_df.head()"
      ],
      "execution_count": 0,
      "outputs": [
        {
          "output_type": "execute_result",
          "data": {
            "text/plain": [
              "movieId\n",
              "5018      0.748252\n",
              "26093     0.734266\n",
              "27344     0.720280\n",
              "148775    0.685315\n",
              "6902      0.678322\n",
              "dtype: float64"
            ]
          },
          "metadata": {
            "tags": []
          },
          "execution_count": 22
        }
      ]
    },
    {
      "cell_type": "markdown",
      "metadata": {
        "id": "eJOA9gs9weMq",
        "colab_type": "text"
      },
      "source": [
        "Now here's the recommendation table!"
      ]
    },
    {
      "cell_type": "code",
      "metadata": {
        "id": "M89PpPe3wbJu",
        "colab_type": "code",
        "outputId": "80c4666f-34ae-4c64-c2c8-bdf579009818",
        "colab": {
          "base_uri": "https://localhost:8080/",
          "height": 669
        }
      },
      "source": [
        "#The final recommendation table\n",
        "movies_df.loc[movies_df['movieId'].isin(recommendationTable_df.head(20).keys())]"
      ],
      "execution_count": 0,
      "outputs": [
        {
          "output_type": "execute_result",
          "data": {
            "text/html": [
              "<div>\n",
              "<style scoped>\n",
              "    .dataframe tbody tr th:only-of-type {\n",
              "        vertical-align: middle;\n",
              "    }\n",
              "\n",
              "    .dataframe tbody tr th {\n",
              "        vertical-align: top;\n",
              "    }\n",
              "\n",
              "    .dataframe thead th {\n",
              "        text-align: right;\n",
              "    }\n",
              "</style>\n",
              "<table border=\"1\" class=\"dataframe\">\n",
              "  <thead>\n",
              "    <tr style=\"text-align: right;\">\n",
              "      <th></th>\n",
              "      <th>movieId</th>\n",
              "      <th>title</th>\n",
              "      <th>genres</th>\n",
              "      <th>year</th>\n",
              "    </tr>\n",
              "  </thead>\n",
              "  <tbody>\n",
              "    <tr>\n",
              "      <th>664</th>\n",
              "      <td>673</td>\n",
              "      <td>Space Jam</td>\n",
              "      <td>[Adventure, Animation, Children, Comedy, Fanta...</td>\n",
              "      <td>1996</td>\n",
              "    </tr>\n",
              "    <tr>\n",
              "      <th>1824</th>\n",
              "      <td>1907</td>\n",
              "      <td>Mulan</td>\n",
              "      <td>[Adventure, Animation, Children, Comedy, Drama...</td>\n",
              "      <td>1998</td>\n",
              "    </tr>\n",
              "    <tr>\n",
              "      <th>2902</th>\n",
              "      <td>2987</td>\n",
              "      <td>Who Framed Roger Rabbit?</td>\n",
              "      <td>[Adventure, Animation, Children, Comedy, Crime...</td>\n",
              "      <td>1988</td>\n",
              "    </tr>\n",
              "    <tr>\n",
              "      <th>4923</th>\n",
              "      <td>5018</td>\n",
              "      <td>Motorama</td>\n",
              "      <td>[Adventure, Comedy, Crime, Drama, Fantasy, Mys...</td>\n",
              "      <td>1991</td>\n",
              "    </tr>\n",
              "    <tr>\n",
              "      <th>6793</th>\n",
              "      <td>6902</td>\n",
              "      <td>Interstate 60</td>\n",
              "      <td>[Adventure, Comedy, Drama, Fantasy, Mystery, S...</td>\n",
              "      <td>2002</td>\n",
              "    </tr>\n",
              "    <tr>\n",
              "      <th>8605</th>\n",
              "      <td>26093</td>\n",
              "      <td>Wonderful World of the Brothers Grimm, The</td>\n",
              "      <td>[Adventure, Animation, Children, Comedy, Drama...</td>\n",
              "      <td>1962</td>\n",
              "    </tr>\n",
              "    <tr>\n",
              "      <th>8783</th>\n",
              "      <td>26340</td>\n",
              "      <td>Twelve Tasks of Asterix, The (Les douze travau...</td>\n",
              "      <td>[Action, Adventure, Animation, Children, Comed...</td>\n",
              "      <td>1976</td>\n",
              "    </tr>\n",
              "    <tr>\n",
              "      <th>9296</th>\n",
              "      <td>27344</td>\n",
              "      <td>Revolutionary Girl Utena: Adolescence of Utena...</td>\n",
              "      <td>[Action, Adventure, Animation, Comedy, Drama, ...</td>\n",
              "      <td>1999</td>\n",
              "    </tr>\n",
              "    <tr>\n",
              "      <th>9825</th>\n",
              "      <td>32031</td>\n",
              "      <td>Robots</td>\n",
              "      <td>[Adventure, Animation, Children, Comedy, Fanta...</td>\n",
              "      <td>2005</td>\n",
              "    </tr>\n",
              "    <tr>\n",
              "      <th>11716</th>\n",
              "      <td>51632</td>\n",
              "      <td>Atlantis: Milo's Return</td>\n",
              "      <td>[Action, Adventure, Animation, Children, Comed...</td>\n",
              "      <td>2003</td>\n",
              "    </tr>\n",
              "    <tr>\n",
              "      <th>11751</th>\n",
              "      <td>51939</td>\n",
              "      <td>TMNT (Teenage Mutant Ninja Turtles)</td>\n",
              "      <td>[Action, Adventure, Animation, Children, Comed...</td>\n",
              "      <td>2007</td>\n",
              "    </tr>\n",
              "    <tr>\n",
              "      <th>13250</th>\n",
              "      <td>64645</td>\n",
              "      <td>The Wrecking Crew</td>\n",
              "      <td>[Action, Adventure, Comedy, Crime, Drama, Thri...</td>\n",
              "      <td>1968</td>\n",
              "    </tr>\n",
              "    <tr>\n",
              "      <th>16055</th>\n",
              "      <td>81132</td>\n",
              "      <td>Rubber</td>\n",
              "      <td>[Action, Adventure, Comedy, Crime, Drama, Film...</td>\n",
              "      <td>2010</td>\n",
              "    </tr>\n",
              "    <tr>\n",
              "      <th>18312</th>\n",
              "      <td>91335</td>\n",
              "      <td>Gruffalo, The</td>\n",
              "      <td>[Adventure, Animation, Children, Comedy, Drama]</td>\n",
              "      <td>2009</td>\n",
              "    </tr>\n",
              "    <tr>\n",
              "      <th>22778</th>\n",
              "      <td>108540</td>\n",
              "      <td>Ernest &amp; Célestine (Ernest et Célestine)</td>\n",
              "      <td>[Adventure, Animation, Children, Comedy, Drama...</td>\n",
              "      <td>2012</td>\n",
              "    </tr>\n",
              "    <tr>\n",
              "      <th>22881</th>\n",
              "      <td>108932</td>\n",
              "      <td>The Lego Movie</td>\n",
              "      <td>[Action, Adventure, Animation, Children, Comed...</td>\n",
              "      <td>2014</td>\n",
              "    </tr>\n",
              "    <tr>\n",
              "      <th>25218</th>\n",
              "      <td>117646</td>\n",
              "      <td>Dragonheart 2: A New Beginning</td>\n",
              "      <td>[Action, Adventure, Comedy, Drama, Fantasy, Th...</td>\n",
              "      <td>2000</td>\n",
              "    </tr>\n",
              "    <tr>\n",
              "      <th>26442</th>\n",
              "      <td>122787</td>\n",
              "      <td>The 39 Steps</td>\n",
              "      <td>[Action, Adventure, Comedy, Crime, Drama, Thri...</td>\n",
              "      <td>1959</td>\n",
              "    </tr>\n",
              "    <tr>\n",
              "      <th>32854</th>\n",
              "      <td>146305</td>\n",
              "      <td>Princes and Princesses</td>\n",
              "      <td>[Animation, Children, Comedy, Drama, Fantasy, ...</td>\n",
              "      <td>2000</td>\n",
              "    </tr>\n",
              "    <tr>\n",
              "      <th>33509</th>\n",
              "      <td>148775</td>\n",
              "      <td>Wizards of Waverly Place: The Movie</td>\n",
              "      <td>[Adventure, Children, Comedy, Drama, Fantasy, ...</td>\n",
              "      <td>2009</td>\n",
              "    </tr>\n",
              "  </tbody>\n",
              "</table>\n",
              "</div>"
            ],
            "text/plain": [
              "       movieId  ...  year\n",
              "664        673  ...  1996\n",
              "1824      1907  ...  1998\n",
              "2902      2987  ...  1988\n",
              "4923      5018  ...  1991\n",
              "6793      6902  ...  2002\n",
              "8605     26093  ...  1962\n",
              "8783     26340  ...  1976\n",
              "9296     27344  ...  1999\n",
              "9825     32031  ...  2005\n",
              "11716    51632  ...  2003\n",
              "11751    51939  ...  2007\n",
              "13250    64645  ...  1968\n",
              "16055    81132  ...  2010\n",
              "18312    91335  ...  2009\n",
              "22778   108540  ...  2012\n",
              "22881   108932  ...  2014\n",
              "25218   117646  ...  2000\n",
              "26442   122787  ...  1959\n",
              "32854   146305  ...  2000\n",
              "33509   148775  ...  2009\n",
              "\n",
              "[20 rows x 4 columns]"
            ]
          },
          "metadata": {
            "tags": []
          },
          "execution_count": 23
        }
      ]
    },
    {
      "cell_type": "markdown",
      "metadata": {
        "id": "vH9hM0WdwkPq",
        "colab_type": "text"
      },
      "source": [
        "## Advantages and Disadvantages of Content-Based Filtering\n",
        "**Advantages**\n",
        "- Learns user's preferences\n",
        "- Highly personalized for the user\n",
        "\n",
        "**Disadvantages**\n",
        "\n",
        "- Doesn't take into account what others think of the item, so low quality item recommendations might happen\n",
        "- Extracting data is not always intuitive\n",
        "- Determining what characteristics of the item the user dislikes or likes is not always obvious"
      ]
    }
  ]
}